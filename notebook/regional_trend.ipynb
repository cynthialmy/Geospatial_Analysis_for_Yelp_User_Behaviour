{
 "cells": [
  {
   "cell_type": "code",
   "execution_count": 2,
   "id": "e29bfbd4-d095-490b-94d1-0bb786ae013b",
   "metadata": {},
   "outputs": [],
   "source": [
    "# Import packages\n",
    "import pandas as pd\n",
    "import nltk\n",
    "import time\n",
    "import json"
   ]
  },
  {
   "cell_type": "code",
   "execution_count": 3,
   "id": "6ac42fb7-ecc0-42e8-b000-b03ac409b4fd",
   "metadata": {},
   "outputs": [],
   "source": [
    "reviews = pd.read_csv('../input/yelp_academic_dataset_review.csv')\n",
    "# print(df.head(10))"
   ]
  },
  {
   "cell_type": "code",
   "execution_count": 5,
   "id": "8a7a7a4d-3023-4fb6-82da-1d9202e6a3dc",
   "metadata": {},
   "outputs": [],
   "source": [
    "business = pd.read_pickle('../input/business.pkl')"
   ]
  },
  {
   "cell_type": "code",
   "execution_count": 6,
   "id": "dc54aac9-3f75-4c3f-8b6a-b8dcd23f01c8",
   "metadata": {},
   "outputs": [
    {
     "data": {
      "text/plain": [
       "Index(['business_id', 'name', 'address', 'city', 'state', 'postal_code',\n",
       "       'latitude', 'longitude', 'stars', 'review_count', 'is_open',\n",
       "       'attributes', 'categories', 'hours'],\n",
       "      dtype='object')"
      ]
     },
     "execution_count": 6,
     "metadata": {},
     "output_type": "execute_result"
    }
   ],
   "source": [
    "business.columns"
   ]
  },
  {
   "cell_type": "code",
   "execution_count": 7,
   "id": "ea3a2642-29b4-44d8-b08d-c2b6bc7f6c55",
   "metadata": {},
   "outputs": [
    {
     "name": "stdout",
     "output_type": "stream",
     "text": [
      "['Santa Barbara' 'Affton' 'Tucson' ... 'Wales' 'UPPER MORELAND'\n",
      " 'Apollo beach']\n"
     ]
    }
   ],
   "source": [
    "print(business['city'].unique())"
   ]
  },
  {
   "cell_type": "code",
   "execution_count": 8,
   "id": "f404b0d5-4a0c-4b0f-92d0-4fee85bf6937",
   "metadata": {},
   "outputs": [
    {
     "name": "stdout",
     "output_type": "stream",
     "text": [
      "<class 'pandas.core.frame.DataFrame'>\n",
      "Int64Index: 9250 entries, 2 to 150331\n",
      "Data columns (total 14 columns):\n",
      " #   Column        Non-Null Count  Dtype  \n",
      "---  ------        --------------  -----  \n",
      " 0   business_id   9250 non-null   object \n",
      " 1   name          9250 non-null   object \n",
      " 2   address       9250 non-null   object \n",
      " 3   city          9250 non-null   object \n",
      " 4   state         9250 non-null   object \n",
      " 5   postal_code   9250 non-null   object \n",
      " 6   latitude      9250 non-null   float64\n",
      " 7   longitude     9250 non-null   float64\n",
      " 8   stars         9250 non-null   float64\n",
      " 9   review_count  9250 non-null   int64  \n",
      " 10  is_open       9250 non-null   int64  \n",
      " 11  attributes    8328 non-null   object \n",
      " 12  categories    9244 non-null   object \n",
      " 13  hours         7916 non-null   object \n",
      "dtypes: float64(3), int64(2), object(9)\n",
      "memory usage: 1.1+ MB\n",
      "None\n"
     ]
    }
   ],
   "source": [
    "Tucson_data = business[business['city'] == 'Tucson']\n",
    "print(Tucson_data.info())"
   ]
  },
  {
   "cell_type": "code",
   "execution_count": 10,
   "id": "4c306926-3712-4b04-919b-7566be2b5eba",
   "metadata": {},
   "outputs": [
    {
     "data": {
      "text/plain": [
       "(404880, 9)"
      ]
     },
     "execution_count": 10,
     "metadata": {},
     "output_type": "execute_result"
    }
   ],
   "source": [
    "Tucson_reviews = reviews[reviews['business_id'].isin(Tucson_data['business_id'])]\n",
    "Tucson_reviews.shape"
   ]
  },
  {
   "cell_type": "code",
   "execution_count": 9,
   "id": "43a91ca4-bc12-4d27-be8f-a45570432639",
   "metadata": {},
   "outputs": [
    {
     "name": "stdout",
     "output_type": "stream",
     "text": [
      "<class 'pandas.core.frame.DataFrame'>\n",
      "Int64Index: 3829 entries, 0 to 150303\n",
      "Data columns (total 14 columns):\n",
      " #   Column        Non-Null Count  Dtype  \n",
      "---  ------        --------------  -----  \n",
      " 0   business_id   3829 non-null   object \n",
      " 1   name          3829 non-null   object \n",
      " 2   address       3829 non-null   object \n",
      " 3   city          3829 non-null   object \n",
      " 4   state         3829 non-null   object \n",
      " 5   postal_code   3829 non-null   object \n",
      " 6   latitude      3829 non-null   float64\n",
      " 7   longitude     3829 non-null   float64\n",
      " 8   stars         3829 non-null   float64\n",
      " 9   review_count  3829 non-null   int64  \n",
      " 10  is_open       3829 non-null   int64  \n",
      " 11  attributes    3430 non-null   object \n",
      " 12  categories    3828 non-null   object \n",
      " 13  hours         3171 non-null   object \n",
      "dtypes: float64(3), int64(2), object(9)\n",
      "memory usage: 448.7+ KB\n",
      "None\n"
     ]
    }
   ],
   "source": [
    "SantaBarbara_data = business[business['city'] == 'Santa Barbara']\n",
    "print(SantaBarbara_data.info())"
   ]
  },
  {
   "cell_type": "code",
   "execution_count": 45,
   "id": "b79b650c-aad2-4ef4-85eb-69c370dba327",
   "metadata": {},
   "outputs": [],
   "source": [
    "business = business.dropna(subset=['categories'])\n",
    "restaurant_bar = business[business['categories'].str.contains('Restaurant')]"
   ]
  },
  {
   "cell_type": "code",
   "execution_count": 11,
   "id": "165f2aa3-32bf-4989-b3d2-945a85c97278",
   "metadata": {},
   "outputs": [
    {
     "data": {
      "text/plain": [
       "(269630, 9)"
      ]
     },
     "execution_count": 11,
     "metadata": {},
     "output_type": "execute_result"
    }
   ],
   "source": [
    "SantaBarbara_reviews = reviews[reviews['business_id'].isin(SantaBarbara_data['business_id'])]\n",
    "SantaBarbara_reviews.shape"
   ]
  },
  {
   "cell_type": "code",
   "execution_count": 12,
   "id": "2d3630f4-2c62-4a2e-b629-4d640afcdb7f",
   "metadata": {
    "tags": []
   },
   "outputs": [
    {
     "name": "stdout",
     "output_type": "stream",
     "text": [
      "<class 'pandas.core.frame.DataFrame'>\n",
      "Int64Index: 269630 entries, 8 to 6990250\n",
      "Data columns (total 9 columns):\n",
      " #   Column       Non-Null Count   Dtype  \n",
      "---  ------       --------------   -----  \n",
      " 0   useful       269630 non-null  int64  \n",
      " 1   stars        269630 non-null  float64\n",
      " 2   cool         269630 non-null  int64  \n",
      " 3   funny        269630 non-null  int64  \n",
      " 4   review_id    269630 non-null  object \n",
      " 5   user_id      269630 non-null  object \n",
      " 6   text         269630 non-null  object \n",
      " 7   date         269630 non-null  object \n",
      " 8   business_id  269630 non-null  object \n",
      "dtypes: float64(1), int64(3), object(5)\n",
      "memory usage: 20.6+ MB\n",
      "None\n"
     ]
    }
   ],
   "source": [
    "print(SantaBarbara_reviews.info())"
   ]
  },
  {
   "cell_type": "code",
   "execution_count": 13,
   "id": "a7810d6e-fdcf-4664-8919-0aaca82972c3",
   "metadata": {},
   "outputs": [
    {
     "name": "stdout",
     "output_type": "stream",
     "text": [
      "<class 'pandas.core.frame.DataFrame'>\n",
      "Int64Index: 404880 entries, 2 to 6990242\n",
      "Data columns (total 9 columns):\n",
      " #   Column       Non-Null Count   Dtype  \n",
      "---  ------       --------------   -----  \n",
      " 0   useful       404880 non-null  int64  \n",
      " 1   stars        404880 non-null  float64\n",
      " 2   cool         404880 non-null  int64  \n",
      " 3   funny        404880 non-null  int64  \n",
      " 4   review_id    404880 non-null  object \n",
      " 5   user_id      404880 non-null  object \n",
      " 6   text         404880 non-null  object \n",
      " 7   date         404880 non-null  object \n",
      " 8   business_id  404880 non-null  object \n",
      "dtypes: float64(1), int64(3), object(5)\n",
      "memory usage: 30.9+ MB\n",
      "None\n"
     ]
    }
   ],
   "source": [
    "print(Tucson_reviews.info())"
   ]
  },
  {
   "cell_type": "code",
   "execution_count": 14,
   "id": "4edf4199-bd2e-4f2d-b3c9-d73d4dea4c86",
   "metadata": {},
   "outputs": [],
   "source": [
    "from nltk.sentiment import SentimentIntensityAnalyzer\n",
    "from branca.colormap import linear"
   ]
  },
  {
   "cell_type": "markdown",
   "id": "401d3cae-89c7-4f32-a2fe-0b9f7ecb8bd3",
   "metadata": {},
   "source": [
    "## Santa Barbara"
   ]
  },
  {
   "cell_type": "code",
   "execution_count": 61,
   "id": "3d4e9ce8-00fd-474e-9dea-86b88f6ebedf",
   "metadata": {},
   "outputs": [],
   "source": [
    "analyzer = SentimentIntensityAnalyzer()"
   ]
  },
  {
   "cell_type": "code",
   "execution_count": 65,
   "id": "f4d8b891-7236-458b-a812-60c9b7206c53",
   "metadata": {},
   "outputs": [
    {
     "name": "stderr",
     "output_type": "stream",
     "text": [
      "/var/folders/28/g_pv1x910n7d59ygr1drw3s40000gn/T/ipykernel_27438/1421629393.py:2: SettingWithCopyWarning: \n",
      "A value is trying to be set on a copy of a slice from a DataFrame.\n",
      "Try using .loc[row_indexer,col_indexer] = value instead\n",
      "\n",
      "See the caveats in the documentation: https://pandas.pydata.org/pandas-docs/stable/user_guide/indexing.html#returning-a-view-versus-a-copy\n",
      "  SantaBarbara_reviews.loc[:, 'sentiment_score'] = SantaBarbara_reviews['text'].apply(lambda x: analyzer.polarity_scores(x)['compound'])\n"
     ]
    }
   ],
   "source": [
    "# Calculate the sentiment score for each comment\n",
    "SantaBarbara_reviews.loc[:, 'sentiment_score'] = SantaBarbara_reviews['text'].apply(lambda x: analyzer.polarity_scores(x)['compound'])\n",
    "\n",
    "# Merge merchant information and review information in order to categorize reviews to merchants\n",
    "merged_data = pd.merge(SantaBarbara_reviews, SantaBarbara_data[['business_id', 'name', 'latitude', 'longitude', 'review_count']], on='business_id')\n",
    "\n",
    "# Calculate the average sentiment score for each merchant\n",
    "business_sentiment = merged_data.groupby(['business_id', 'name', 'latitude', 'longitude', 'review_count'])['sentiment_score'].mean().reset_index()"
   ]
  },
  {
   "cell_type": "code",
   "execution_count": 136,
   "id": "45976f7d-d20a-444c-8ab6-0f3593d7583d",
   "metadata": {},
   "outputs": [],
   "source": [
    "import numpy as np\n",
    "import folium\n",
    "from folium import plugins\n",
    "import matplotlib\n",
    "import matplotlib.pyplot as plt\n",
    "import matplotlib.colors as colors\n",
    "\n",
    "sb_map2 = folium.Map(location=[34.41, -119.70], zoom_start=13)\n",
    "\n",
    "q50 = business_sentiment['sentiment_score'].quantile(0.30)\n",
    "\n",
    "for i, row in business_sentiment.iterrows():\n",
    "    if row['sentiment_score'] < q50:\n",
    "        fill_color = 'blue'\n",
    "    else:\n",
    "        fill_color = 'red'\n",
    "    \n",
    "    folium.CircleMarker(\n",
    "        location=[row['latitude'], row['longitude']],\n",
    "        radius=row['review_count'] / 100,\n",
    "        popup=row['name'],\n",
    "        fill=True,\n",
    "        fill_color=fill_color,\n",
    "        color = None,\n",
    "        fill_opacity=0.8,\n",
    "        weight = 0\n",
    "    ).add_to(sb_map2)\n",
    "\n",
    "sb_map2\n",
    "\n",
    "sb_map2.save('../result/santabarbara_sentiment_map.html')\n"
   ]
  },
  {
   "cell_type": "markdown",
   "id": "6141fdf3-4d8a-45e2-a820-987a62094a4a",
   "metadata": {},
   "source": [
    "## Tucson"
   ]
  },
  {
   "cell_type": "code",
   "execution_count": 15,
   "id": "03707ee6-de15-42db-919e-222b9b9774aa",
   "metadata": {},
   "outputs": [],
   "source": [
    "analyzer = SentimentIntensityAnalyzer()"
   ]
  },
  {
   "cell_type": "code",
   "execution_count": 16,
   "id": "d05d192a-c776-4714-aaec-9e86497f79fd",
   "metadata": {},
   "outputs": [
    {
     "name": "stderr",
     "output_type": "stream",
     "text": [
      "/var/folders/28/g_pv1x910n7d59ygr1drw3s40000gn/T/ipykernel_1124/3005813254.py:2: SettingWithCopyWarning: \n",
      "A value is trying to be set on a copy of a slice from a DataFrame.\n",
      "Try using .loc[row_indexer,col_indexer] = value instead\n",
      "\n",
      "See the caveats in the documentation: https://pandas.pydata.org/pandas-docs/stable/user_guide/indexing.html#returning-a-view-versus-a-copy\n",
      "  Tucson_reviews.loc[:, 'sentiment_score'] = Tucson_reviews['text'].apply(lambda x: analyzer.polarity_scores(x)['compound'])\n"
     ]
    }
   ],
   "source": [
    "# Calculate the sentiment score for each comment\n",
    "Tucson_reviews.loc[:, 'sentiment_score'] = Tucson_reviews['text'].apply(lambda x: analyzer.polarity_scores(x)['compound'])\n",
    "\n",
    "# Merge merchant information and review information in order to categorize reviews to merchants\n",
    "merged_data = pd.merge(Tucson_reviews, Tucson_data[['business_id', 'name', 'latitude', 'longitude', 'review_count']], on='business_id')\n",
    "\n",
    "# Calculate the average sentiment score for each merchant\n",
    "business_sentiment = merged_data.groupby(['business_id', 'name', 'latitude', 'longitude', 'review_count'])['sentiment_score'].mean().reset_index()"
   ]
  },
  {
   "cell_type": "code",
   "execution_count": 37,
   "id": "4129da58-6efe-45cb-86a0-abe14a8bc183",
   "metadata": {},
   "outputs": [],
   "source": [
    "import numpy as np\n",
    "import folium\n",
    "from folium import plugins\n",
    "import matplotlib\n",
    "import matplotlib.pyplot as plt\n",
    "import matplotlib.colors as colors\n",
    "\n",
    "tucson_map = folium.Map(location=[32.2217, -110.9265], zoom_start=12)\n",
    "\n",
    "q30 = business_sentiment['sentiment_score'].quantile(0.30)\n",
    "\n",
    "for i, row in business_sentiment.iterrows():\n",
    "    if row['sentiment_score'] < q30:\n",
    "        fill_color = 'blue'\n",
    "    else:\n",
    "        fill_color = 'red'\n",
    "    \n",
    "    folium.CircleMarker(\n",
    "        location=[row['latitude'], row['longitude']],\n",
    "        radius=row['review_count'] / 100,\n",
    "        popup=row['name'],\n",
    "        fill=True,\n",
    "        fill_color=fill_color,\n",
    "        color = None,\n",
    "        fill_opacity=0.8,\n",
    "        weight = 0\n",
    "    ).add_to(tucson_map)\n",
    "\n",
    "tucson_map\n",
    "\n",
    "tucson_map.save('../result/tucson_sentiment_map.html')\n"
   ]
  },
  {
   "cell_type": "code",
   "execution_count": null,
   "id": "cd99ce49-70d0-46a7-bd10-6b940dd75172",
   "metadata": {},
   "outputs": [],
   "source": []
  }
 ],
 "metadata": {
  "kernelspec": {
   "display_name": "Python 3 (ipykernel)",
   "language": "python",
   "name": "python3"
  },
  "language_info": {
   "codemirror_mode": {
    "name": "ipython",
    "version": 3
   },
   "file_extension": ".py",
   "mimetype": "text/x-python",
   "name": "python",
   "nbconvert_exporter": "python",
   "pygments_lexer": "ipython3",
   "version": "3.9.16"
  }
 },
 "nbformat": 4,
 "nbformat_minor": 5
}
