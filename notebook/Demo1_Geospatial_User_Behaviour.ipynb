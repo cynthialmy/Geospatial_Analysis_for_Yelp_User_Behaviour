{
 "cells": [
  {
   "cell_type": "code",
   "execution_count": 3,
   "id": "f1866fb4-e10a-42ba-9443-afeb97678930",
   "metadata": {},
   "outputs": [],
   "source": [
    "# Clear all variables from the current environment\n",
    "locals().clear()\n",
    "globals().clear()"
   ]
  },
  {
   "cell_type": "code",
   "execution_count": 4,
   "id": "a69b1ebd-1e16-421b-aeb9-a0ace36002e6",
   "metadata": {},
   "outputs": [],
   "source": [
    "import pickle\n",
    "with open('../input/business.pkl', 'rb') as f:\n",
    "    businesses = pickle.load(f)\n",
    "with open('../input/review.pkl', 'rb') as f:\n",
    "    all_reviews = pickle.load(f)\n",
    "\n",
    "# Cut the data size for reviews to 1000\n",
    "reviews = all_reviews.head(1000)"
   ]
  },
  {
   "cell_type": "code",
   "execution_count": 7,
   "id": "2578c43b-ffc2-4c07-b295-f0aaafc0d840",
   "metadata": {},
   "outputs": [
    {
     "data": {
      "application/vnd.jupyter.widget-view+json": {
       "model_id": "bac87c098bf2494fa48d682c2c2b7975",
       "version_major": 2,
       "version_minor": 0
      },
      "text/plain": [
       "Sentiment Analysis:   0%|          | 0/186 [00:00<?, ?it/s]"
      ]
     },
     "metadata": {},
     "output_type": "display_data"
    },
    {
     "name": "stderr",
     "output_type": "stream",
     "text": [
      "/Users/cynthiali/opt/anaconda3/lib/python3.9/site-packages/sklearn/cluster/_kmeans.py:870: FutureWarning: The default value of `n_init` will change from 10 to 'auto' in 1.4. Set the value of `n_init` explicitly to suppress the warning\n",
      "  warnings.warn(\n"
     ]
    },
    {
     "data": {
      "application/vnd.jupyter.widget-view+json": {
       "model_id": "2a93f7ebe7694524a54b690ce53c2258",
       "version_major": 2,
       "version_minor": 0
      },
      "text/plain": [
       "Plotting Clusters:   0%|          | 0/186 [00:00<?, ?it/s]"
      ]
     },
     "metadata": {},
     "output_type": "display_data"
    }
   ],
   "source": [
    "from textblob import TextBlob\n",
    "import folium\n",
    "from sklearn.cluster import KMeans\n",
    "import numpy as np\n",
    "import pandas as pd\n",
    "from tqdm.auto import tqdm\n",
    "\n",
    "# Filter businesses in Philadelphia\n",
    "philadelphia_businesses = businesses[businesses['city'] == 'Philadelphia']\n",
    "\n",
    "# Merge reviews and businesses dataframes\n",
    "merged_data = pd.merge(reviews, philadelphia_businesses, on='business_id', how='inner')\n",
    "\n",
    "# Perform sentiment analysis\n",
    "tqdm.pandas(desc=\"Sentiment Analysis\")\n",
    "merged_data['sentiment'] = merged_data['text'].progress_apply(lambda text: TextBlob(text).sentiment.polarity)\n",
    "\n",
    "# Prepare data for clustering\n",
    "X = merged_data[['latitude', 'longitude', 'sentiment']]\n",
    "\n",
    "# Perform KMeans clustering\n",
    "n_clusters = 5\n",
    "kmeans = KMeans(n_clusters=n_clusters, random_state=42)\n",
    "merged_data['cluster'] = kmeans.fit_predict(X)\n",
    "\n",
    "# Create a function to visualize clusters on a map\n",
    "def plot_clusters_on_map(df, n_clusters):\n",
    "    map = folium.Map(location=[39.952583, -75.165222], zoom_start=12)\n",
    "    \n",
    "    # Define cluster colors\n",
    "    colors = ['red', 'blue', 'green', 'purple', 'orange', 'darkred', 'lightred', 'beige', 'darkblue', 'darkgreen', 'cadetblue', 'darkpurple', 'pink', 'lightblue', 'lightgreen', 'gray', 'black', 'lightgray']\n",
    "    \n",
    "    # Plot businesses on the map with cluster colors and a progress bar\n",
    "    for idx, row in tqdm(df.iterrows(), total=df.shape[0], desc=\"Plotting Clusters\"):\n",
    "        color = colors[row['cluster'] % len(colors)]\n",
    "        folium.Marker(\n",
    "            location=[row['latitude'], row['longitude']],\n",
    "            icon=folium.Icon(color=color),\n",
    "            popup=f\"<b>Name:</b> {row['name']}<br><b>Stars:</b> {row['stars_x']}<br><b>Reviews:</b> {row['review_count']}<br><b>Address:</b> {row['address']}\"\n",
    "        ).add_to(map)\n",
    "    \n",
    "    return map\n",
    "\n",
    "# Visualize the clusters on a map\n",
    "cluster_map = plot_clusters_on_map(merged_data, n_clusters)\n",
    "cluster_map.save(\"../result/clusters_map_demo.html\")"
   ]
  },
  {
   "cell_type": "code",
   "execution_count": null,
   "id": "5bf7b432-8a35-42f1-a0a5-9537d96c1d80",
   "metadata": {},
   "outputs": [],
   "source": []
  }
 ],
 "metadata": {
  "kernelspec": {
   "display_name": "Python 3 (ipykernel)",
   "language": "python",
   "name": "python3"
  },
  "language_info": {
   "codemirror_mode": {
    "name": "ipython",
    "version": 3
   },
   "file_extension": ".py",
   "mimetype": "text/x-python",
   "name": "python",
   "nbconvert_exporter": "python",
   "pygments_lexer": "ipython3",
   "version": "3.9.16"
  }
 },
 "nbformat": 4,
 "nbformat_minor": 5
}
