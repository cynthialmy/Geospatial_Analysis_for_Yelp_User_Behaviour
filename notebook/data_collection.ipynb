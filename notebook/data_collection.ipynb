{
 "cells": [
  {
   "cell_type": "code",
   "execution_count": 3,
   "id": "1855f49f-095a-430b-81e2-00da83912d84",
   "metadata": {},
   "outputs": [],
   "source": [
    "# Import packages to use later\n",
    "import pandas as pd\n",
    "import nltk\n",
    "import time\n",
    "import json"
   ]
  },
  {
   "cell_type": "code",
   "execution_count": 4,
   "id": "9ce6e25b-61e0-49ed-bcac-9cc91371c144",
   "metadata": {},
   "outputs": [],
   "source": [
    "# businesses = pd.read_csv(\"../input/YelpChallengeWMetros_Clean.csv\", encoding='latin-1')\n",
    "# businesses = pd.read_csv(\"../input/yelp_business.csv\", encoding='latin-1')\n",
    "# businesses = businesses.rename(columns={'business': 'business_id'})\n",
    "\n",
    "import pickle\n",
    "with open('../input/business.pkl', 'rb') as f:\n",
    "    businesses = pickle.load(f)"
   ]
  },
  {
   "cell_type": "code",
   "execution_count": 5,
   "id": "c572b186-1d92-44d5-9fd2-024414e51af3",
   "metadata": {},
   "outputs": [
    {
     "name": "stdout",
     "output_type": "stream",
     "text": [
      "Philadelphia 14569\n",
      "Tucson 9250\n",
      "Tampa 9050\n",
      "Indianapolis 7540\n",
      "Nashville 6971\n",
      "New Orleans 6209\n",
      "Reno 5935\n",
      "Edmonton 5054\n",
      "Saint Louis 4827\n",
      "Santa Barbara 3829\n",
      "Boise 2937\n",
      "Clearwater 2221\n",
      "Saint Petersburg 1663\n",
      "Metairie 1643\n",
      "Sparks 1624\n",
      "Wilmington 1446\n",
      "Franklin 1414\n",
      "St. Louis 1255\n",
      "St. Petersburg 1185\n",
      "Meridian 1043\n",
      "Brandon 1033\n",
      "Largo 1002\n"
     ]
    }
   ],
   "source": [
    "d = dict(businesses['city'].value_counts())\n",
    "\n",
    "for city, count in sorted(d.items(), key=lambda x: x[1], reverse=True):\n",
    "    if count > 1000:\n",
    "        print(city, count)"
   ]
  },
  {
   "cell_type": "code",
   "execution_count": 6,
   "id": "4f46daae-039a-49ec-94eb-894eb79f516c",
   "metadata": {},
   "outputs": [
    {
     "data": {
      "text/html": [
       "<div>\n",
       "<style scoped>\n",
       "    .dataframe tbody tr th:only-of-type {\n",
       "        vertical-align: middle;\n",
       "    }\n",
       "\n",
       "    .dataframe tbody tr th {\n",
       "        vertical-align: top;\n",
       "    }\n",
       "\n",
       "    .dataframe thead th {\n",
       "        text-align: right;\n",
       "    }\n",
       "</style>\n",
       "<table border=\"1\" class=\"dataframe\">\n",
       "  <thead>\n",
       "    <tr style=\"text-align: right;\">\n",
       "      <th></th>\n",
       "      <th>business_id</th>\n",
       "      <th>name</th>\n",
       "      <th>address</th>\n",
       "      <th>city</th>\n",
       "      <th>state</th>\n",
       "      <th>postal_code</th>\n",
       "      <th>latitude</th>\n",
       "      <th>longitude</th>\n",
       "      <th>stars</th>\n",
       "      <th>review_count</th>\n",
       "      <th>is_open</th>\n",
       "      <th>attributes</th>\n",
       "      <th>categories</th>\n",
       "      <th>hours</th>\n",
       "    </tr>\n",
       "  </thead>\n",
       "  <tbody>\n",
       "    <tr>\n",
       "      <th>0</th>\n",
       "      <td>Pns2l4eNsfO8kk83dixA6A</td>\n",
       "      <td>Abby Rappoport, LAC, CMQ</td>\n",
       "      <td>1616 Chapala St, Ste 2</td>\n",
       "      <td>Santa Barbara</td>\n",
       "      <td>CA</td>\n",
       "      <td>93101</td>\n",
       "      <td>34.426679</td>\n",
       "      <td>-119.711197</td>\n",
       "      <td>5.0</td>\n",
       "      <td>7</td>\n",
       "      <td>0</td>\n",
       "      <td>{'ByAppointmentOnly': 'True'}</td>\n",
       "      <td>Doctors, Traditional Chinese Medicine, Naturop...</td>\n",
       "      <td>None</td>\n",
       "    </tr>\n",
       "    <tr>\n",
       "      <th>1</th>\n",
       "      <td>mpf3x-BjTdTEA3yCZrAYPw</td>\n",
       "      <td>The UPS Store</td>\n",
       "      <td>87 Grasso Plaza Shopping Center</td>\n",
       "      <td>Affton</td>\n",
       "      <td>MO</td>\n",
       "      <td>63123</td>\n",
       "      <td>38.551126</td>\n",
       "      <td>-90.335695</td>\n",
       "      <td>3.0</td>\n",
       "      <td>15</td>\n",
       "      <td>1</td>\n",
       "      <td>{'BusinessAcceptsCreditCards': 'True'}</td>\n",
       "      <td>Shipping Centers, Local Services, Notaries, Ma...</td>\n",
       "      <td>{'Monday': '0:0-0:0', 'Tuesday': '8:0-18:30', ...</td>\n",
       "    </tr>\n",
       "    <tr>\n",
       "      <th>2</th>\n",
       "      <td>tUFrWirKiKi_TAnsVWINQQ</td>\n",
       "      <td>Target</td>\n",
       "      <td>5255 E Broadway Blvd</td>\n",
       "      <td>Tucson</td>\n",
       "      <td>AZ</td>\n",
       "      <td>85711</td>\n",
       "      <td>32.223236</td>\n",
       "      <td>-110.880452</td>\n",
       "      <td>3.5</td>\n",
       "      <td>22</td>\n",
       "      <td>0</td>\n",
       "      <td>{'BikeParking': 'True', 'BusinessAcceptsCredit...</td>\n",
       "      <td>Department Stores, Shopping, Fashion, Home &amp; G...</td>\n",
       "      <td>{'Monday': '8:0-22:0', 'Tuesday': '8:0-22:0', ...</td>\n",
       "    </tr>\n",
       "  </tbody>\n",
       "</table>\n",
       "</div>"
      ],
      "text/plain": [
       "              business_id                      name  \\\n",
       "0  Pns2l4eNsfO8kk83dixA6A  Abby Rappoport, LAC, CMQ   \n",
       "1  mpf3x-BjTdTEA3yCZrAYPw             The UPS Store   \n",
       "2  tUFrWirKiKi_TAnsVWINQQ                    Target   \n",
       "\n",
       "                           address           city state postal_code  \\\n",
       "0           1616 Chapala St, Ste 2  Santa Barbara    CA       93101   \n",
       "1  87 Grasso Plaza Shopping Center         Affton    MO       63123   \n",
       "2             5255 E Broadway Blvd         Tucson    AZ       85711   \n",
       "\n",
       "    latitude   longitude  stars  review_count  is_open  \\\n",
       "0  34.426679 -119.711197    5.0             7        0   \n",
       "1  38.551126  -90.335695    3.0            15        1   \n",
       "2  32.223236 -110.880452    3.5            22        0   \n",
       "\n",
       "                                          attributes  \\\n",
       "0                      {'ByAppointmentOnly': 'True'}   \n",
       "1             {'BusinessAcceptsCreditCards': 'True'}   \n",
       "2  {'BikeParking': 'True', 'BusinessAcceptsCredit...   \n",
       "\n",
       "                                          categories  \\\n",
       "0  Doctors, Traditional Chinese Medicine, Naturop...   \n",
       "1  Shipping Centers, Local Services, Notaries, Ma...   \n",
       "2  Department Stores, Shopping, Fashion, Home & G...   \n",
       "\n",
       "                                               hours  \n",
       "0                                               None  \n",
       "1  {'Monday': '0:0-0:0', 'Tuesday': '8:0-18:30', ...  \n",
       "2  {'Monday': '8:0-22:0', 'Tuesday': '8:0-22:0', ...  "
      ]
     },
     "execution_count": 6,
     "metadata": {},
     "output_type": "execute_result"
    }
   ],
   "source": [
    "businesses.head(3)"
   ]
  },
  {
   "cell_type": "code",
   "execution_count": 7,
   "id": "0a73320d-c695-406a-a2fd-21d02d57ef9f",
   "metadata": {},
   "outputs": [],
   "source": [
    "# reviews = pd.read_csv(\"../input/yelp_review.csv\", encoding='latin-1')\n",
    "import pickle\n",
    "with open('../input/review.pkl', 'rb') as f:\n",
    "    reviews = pickle.load(f)"
   ]
  },
  {
   "cell_type": "code",
   "execution_count": 8,
   "id": "ae285449-04f9-4b2a-a89d-713edfd68ef5",
   "metadata": {},
   "outputs": [
    {
     "data": {
      "text/html": [
       "<div>\n",
       "<style scoped>\n",
       "    .dataframe tbody tr th:only-of-type {\n",
       "        vertical-align: middle;\n",
       "    }\n",
       "\n",
       "    .dataframe tbody tr th {\n",
       "        vertical-align: top;\n",
       "    }\n",
       "\n",
       "    .dataframe thead th {\n",
       "        text-align: right;\n",
       "    }\n",
       "</style>\n",
       "<table border=\"1\" class=\"dataframe\">\n",
       "  <thead>\n",
       "    <tr style=\"text-align: right;\">\n",
       "      <th></th>\n",
       "      <th>review_id</th>\n",
       "      <th>user_id</th>\n",
       "      <th>business_id</th>\n",
       "      <th>stars</th>\n",
       "      <th>useful</th>\n",
       "      <th>funny</th>\n",
       "      <th>cool</th>\n",
       "      <th>text</th>\n",
       "      <th>date</th>\n",
       "    </tr>\n",
       "  </thead>\n",
       "  <tbody>\n",
       "    <tr>\n",
       "      <th>0</th>\n",
       "      <td>KU_O5udG6zpxOg-VcAEodg</td>\n",
       "      <td>mh_-eMZ6K5RLWhZyISBhwA</td>\n",
       "      <td>XQfwVwDr-v0ZS3_CbbE5Xw</td>\n",
       "      <td>3.0</td>\n",
       "      <td>0</td>\n",
       "      <td>0</td>\n",
       "      <td>0</td>\n",
       "      <td>If you decide to eat here, just be aware it is...</td>\n",
       "      <td>2018-07-07 22:09:11</td>\n",
       "    </tr>\n",
       "    <tr>\n",
       "      <th>1</th>\n",
       "      <td>BiTunyQ73aT9WBnpR9DZGw</td>\n",
       "      <td>OyoGAe7OKpv6SyGZT5g77Q</td>\n",
       "      <td>7ATYjTIgM3jUlt4UM3IypQ</td>\n",
       "      <td>5.0</td>\n",
       "      <td>1</td>\n",
       "      <td>0</td>\n",
       "      <td>1</td>\n",
       "      <td>I've taken a lot of spin classes over the year...</td>\n",
       "      <td>2012-01-03 15:28:18</td>\n",
       "    </tr>\n",
       "    <tr>\n",
       "      <th>2</th>\n",
       "      <td>saUsX_uimxRlCVr67Z4Jig</td>\n",
       "      <td>8g_iMtfSiwikVnbP2etR0A</td>\n",
       "      <td>YjUWPpI6HXG530lwP-fb2A</td>\n",
       "      <td>3.0</td>\n",
       "      <td>0</td>\n",
       "      <td>0</td>\n",
       "      <td>0</td>\n",
       "      <td>Family diner. Had the buffet. Eclectic assortm...</td>\n",
       "      <td>2014-02-05 20:30:30</td>\n",
       "    </tr>\n",
       "  </tbody>\n",
       "</table>\n",
       "</div>"
      ],
      "text/plain": [
       "                review_id                 user_id             business_id  \\\n",
       "0  KU_O5udG6zpxOg-VcAEodg  mh_-eMZ6K5RLWhZyISBhwA  XQfwVwDr-v0ZS3_CbbE5Xw   \n",
       "1  BiTunyQ73aT9WBnpR9DZGw  OyoGAe7OKpv6SyGZT5g77Q  7ATYjTIgM3jUlt4UM3IypQ   \n",
       "2  saUsX_uimxRlCVr67Z4Jig  8g_iMtfSiwikVnbP2etR0A  YjUWPpI6HXG530lwP-fb2A   \n",
       "\n",
       "   stars  useful  funny  cool  \\\n",
       "0    3.0       0      0     0   \n",
       "1    5.0       1      0     1   \n",
       "2    3.0       0      0     0   \n",
       "\n",
       "                                                text                 date  \n",
       "0  If you decide to eat here, just be aware it is...  2018-07-07 22:09:11  \n",
       "1  I've taken a lot of spin classes over the year...  2012-01-03 15:28:18  \n",
       "2  Family diner. Had the buffet. Eclectic assortm...  2014-02-05 20:30:30  "
      ]
     },
     "execution_count": 8,
     "metadata": {},
     "output_type": "execute_result"
    }
   ],
   "source": [
    "reviews.head(3)"
   ]
  },
  {
   "cell_type": "code",
   "execution_count": 9,
   "id": "0e7cb5b8-c606-49ae-857f-d9e870fcf5b0",
   "metadata": {},
   "outputs": [],
   "source": [
    "# !pip install tqdm"
   ]
  },
  {
   "cell_type": "code",
   "execution_count": 10,
   "id": "3c16de82-f371-44dd-8834-f98d87f82e72",
   "metadata": {},
   "outputs": [
    {
     "name": "stderr",
     "output_type": "stream",
     "text": [
      "Processing Cities: 100%|████████████████████| 1416/1416 [07:01<00:00,  3.36it/s]\n"
     ]
    },
    {
     "name": "stdout",
     "output_type": "stream",
     "text": [
      "6990280\n",
      "Error writing file for Clearwater/ Countryside: Cannot save file into a non-existent directory: '../processed/yelp_academic_dataset_reviews_Clearwater'\n",
      "Error writing file for Wayne/Radnor: Cannot save file into a non-existent directory: '../processed/yelp_academic_dataset_reviews_Wayne'\n"
     ]
    }
   ],
   "source": [
    "from tqdm import tqdm\n",
    "\n",
    "# Filter cities containing the majority of reviews and remove outlier entries\n",
    "major_cities = [city for city, count in sorted(d.items(), key=lambda x: x[1], reverse=True)]\n",
    "\n",
    "# Create an empty dataframe for each city\n",
    "city_reviews = {city: pd.DataFrame() for city in major_cities}\n",
    "\n",
    "# Map city IDs to a set of business IDs in that city\n",
    "city_businesses = {city: set(businesses[businesses['city'] == city]['business_id'].tolist()) for city in major_cities}\n",
    "\n",
    "total_review_count = 0\n",
    "\n",
    "# # Load the review data from the PKL file\n",
    "# with open('../input/review.pkl', 'rb') as f:\n",
    "#     reviews = pickle.load(f)\n",
    "\n",
    "# # Filter and process the reviews\n",
    "# reviews['datetime'] = pd.to_datetime(reviews['date'])\n",
    "# reviews = reviews[(reviews['datetime'] >= pd.Timestamp('2010-01-01')) & (reviews['datetime'] < pd.Timestamp('2020-01-01'))]\n",
    "\n",
    "total_review_count += len(reviews)\n",
    "\n",
    "# Wrap the major_cities list with tqdm for progress bar\n",
    "for city in tqdm(major_cities, desc=\"Processing Cities\"):\n",
    "    relevant_reviews = reviews[reviews.business_id.isin(city_businesses[city])]\n",
    "    city_reviews[city] = pd.concat([city_reviews[city], relevant_reviews], axis=0)\n",
    "\n",
    "print(total_review_count)\n",
    "        \n",
    "for city in major_cities:\n",
    "    if len(city_reviews[city]) > 20:\n",
    "        try:\n",
    "            city_reviews[city].to_csv(f\"../processed/yelp_academic_dataset_reviews_{city}.csv\", index=False)\n",
    "        except Exception as e:\n",
    "            print(f\"Error writing file for {city}: {e}\")\n"
   ]
  },
  {
   "cell_type": "code",
   "execution_count": 11,
   "id": "811bdce6-c725-415d-8c6f-ff92e992c6cf",
   "metadata": {},
   "outputs": [
    {
     "name": "stdout",
     "output_type": "stream",
     "text": [
      "['Philadelphia', 'Tucson', 'Tampa', 'Indianapolis', 'Nashville', 'New Orleans', 'Reno', 'Edmonton', 'Saint Louis', 'Santa Barbara', 'Boise', 'Clearwater', 'Saint Petersburg', 'Metairie', 'Sparks', 'Wilmington', 'Franklin', 'St. Louis', 'St. Petersburg', 'Meridian', 'Brandon', 'Largo', 'Carmel', 'Cherry Hill', 'West Chester', 'Goleta', 'Brentwood', 'Palm Harbor', 'Greenwood', 'New Port Richey', 'Lutz', 'Riverview', 'Kenner', 'Fishers', 'King of Prussia', 'Wesley Chapel', 'Doylestown', 'Pinellas Park', 'Dunedin', 'Hendersonville', 'Bensalem', 'Norristown', 'Exton', 'Marlton', 'Spring Hill', 'Tarpon Springs', 'St Petersburg', 'Springfield', 'Lansdale', 'Ardmore', 'Wayne', 'Media', 'Smyrna', 'Phoenixville', 'Newark', 'Seminole', 'St Louis', 'Gretna', 'Mount Laurel', 'Langhorne', 'Saint Charles', 'Trenton', 'Pottstown', 'Newtown', 'Avon', 'Florissant', 'Willow Grove', 'Havertown', 'Belleville', 'Conshohocken', 'Carpinteria', 'Levittown', 'Sherwood Park', 'Malvern', 'Harvey', 'Eagle', 'Fenton', 'Bryn Mawr', 'Oro Valley', 'Oldsmar', 'Warminster', 'Mount Juliet', 'Valrico', 'Madison', 'Edwardsville', 'Plainfield', 'Port Richey', 'North Wales', 'Hermitage', 'Plant City', 'Collegeville', 'Ballwin', 'Downingtown', 'New Hope', 'Fairview Heights', 'Voorhees', 'Zionsville', 'Antioch', 'Hudson', 'Arnold', 'Sewell', 'Jenkintown', 'Upper Darby', 'New Castle', 'Creve Coeur', 'Kirkwood', 'Ambler', 'Clayton', 'Moorestown', 'Southampton', 'Brownsburg', 'Maryland Heights', 'Glen Mills', 'Warrington', 'Bala Cynwyd', 'Goodlettsville', 'Plymouth Meeting', 'Medford', 'Horsham', 'Blue Bell', 'Glenside', 'Haddonfield', 'Huntingdon Valley', 'Hatboro', 'Burlington', 'Newtown Square', 'Kennett Square', 'Woodbury', 'Marrero', 'Broomall', 'Collingswood', 'Abington', 'Royersford', 'St. Pete Beach', 'Bridgeton', 'Madeira Beach', 'Clearwater Beach', 'Yardley', 'Sicklerville', 'Collinsville', 'Garden City', 'Pennsauken', 'Harahan', 'Chesterfield', 'Drexel Hill', 'Fairless Hills', \"O'Fallon\", 'Paoli', 'Gallatin', 'Alton', 'Maple Shade', 'Des Peres', 'Glassboro', 'Tampa Bay', 'Blackwood', 'Ruskin', 'Zephyrhills', 'Safety Harbor', 'Aston', 'Maplewood', 'King Of Prussia', 'Odessa', 'Bristol', 'Audubon', 'Turnersville', 'Temple Terrace', 'Chalfont', 'Holiday', 'Lambertville', 'Apollo Beach', 'Manchester', 'Chadds Ford', 'Deptford', 'Cinnaminson', 'Ewing', 'Morrisville', 'Land O Lakes', 'Bordentown', 'Gulfport', 'Chalmette', 'Mount Holly', 'Narberth', 'Williamstown', 'Elkins Park', 'Webster Groves', 'Berwyn', 'Souderton', 'Camden', 'Trinity', 'St Charles', 'Treasure Island', 'Seffner', 'St. Charles', 'Hazelwood', 'Marana', 'Delran', 'Hatfield', 'Clementon', 'Feasterville Trevose', 'Berlin', 'Harleysville', 'University City', \"Land O' Lakes\", 'Folsom', 'Montgomeryville', 'Isla Vista', 'Nolensville', 'St Albert', 'Montecito', 'East Norriton', 'Perkasie', 'Richmond Heights', 'La Vergne', 'Richboro', 'Lansdowne', 'Wynnewood', 'Swedesboro', 'West Berlin', 'Hockessin', 'O Fallon', 'Indian Rocks Beach', 'Old Hickory', 'Valley Park', 'Feasterville', 'Limerick', 'Mt. Juliet', 'Mooresville', 'Quakertown', 'Clifton Heights', 'Feasterville-Trevose', 'Granite City', 'St Pete Beach', 'White House', 'Voorhees Township', 'Glen Carbon', 'Brookhaven', 'Haddon Township', 'St. Albert', 'Chester Springs', 'Sahuarita', 'Green Valley', 'Jefferson', 'Mullica Hill', 'Speedway', 'Lithia', 'Flourtown', 'Glenolden', 'Runnemede', 'Willingboro', 'Fort Washington', 'Lumberton', 'Pitman', 'Wyncote', 'Saint Ann', 'Skippack', 'Claymont', 'Swansea', 'Lafayette Hill', 'Terrytown', 'Hamilton', 'Saint Pete Beach', 'Westwego', 'Ewing Township', 'Columbia', 'Bellmawr', 'South Pasadena', 'Haddon Heights', 'Belle Chasse', 'Gilbertsville', 'Somerdale', 'Haverford', 'Devon', 'Vail', 'Hainesport', 'Gibsonton', 'Prospect Park', 'Belleair Bluffs', 'Bridgeport', 'Ridley Park', 'Lahaska', 'Troy', 'Chester', 'Spring City', 'Dresher', 'Schwenksville', 'Shiloh', 'Lebanon', 'Sun City Center', 'Lindenwold', 'Overland', 'Swarthmore', 'Holmes', 'Stratford', 'Boothwyn', 'Thorndale', 'Frazer', 'Waterloo', 'Trevose', 'High Ridge', 'Merchantville', 'Colmar', 'Evesham Township', 'West Deptford', 'Whitestown', 'Pleasant View', 'Oaks', 'Imperial', 'Pennsville', 'Oaklyn', 'Beech Grove', 'Wood River', 'Ashland City', 'Summerland', 'Essington', 'Morton', 'Croydon', 'Kenneth City', 'Villanova', 'Boyertown', 'Maryville', 'Camby', 'Avondale', 'Jamison', 'Sun Valley', 'Telford', 'Palmyra', 'River Ridge', 'Sellersville', 'Cheltenham', 'Westampton', 'Affton', 'Olivette', 'Eagleville', 'Deptford Township', 'Ferguson', 'Town and Country', 'Gloucester City', 'Oreland', 'Mantua', 'Sunset Hills', 'Pennsauken Township', 'Barrington', 'Folcroft', 'Mt Juliet', 'Collingdale', 'Spring House', 'Columbus', 'Magnolia', 'Mt. Laurel', 'Dover', 'Noblesville', 'Virginia City', 'Woodlyn', 'Westmont', 'Crestwood', 'Westville', 'Thonotosassa', 'Marcus Hook', 'Verdi', 'Indian Shores', 'Joelton', 'Buckingham', 'North Redington Beach', 'Coatesville', 'Trappe', 'Hamilton Township', 'Penndel', 'Redington Shores', 'Tierra Verde', 'Pipersville', 'Godfrey', 'Maple Glen', 'Wyndmoor', 'McCordsville', 'Dublin', 'Woodbury Heights', 'Caseyville', 'Arabi', 'Radnor', 'Darby', 'Spanish Springs', 'Ladue', 'Lawrence', 'Holland', 'Mount Ephraim', 'Brooklawn', 'Hammonton', 'Woodstown', 'Rock Hill', 'Atco', 'Millstadt', 'Wimauma', 'Garnet Valley', 'Bellevue', 'Riverside', 'Washington Crossing', 'Franklinville', 'Pennsburg', 'Glendora', 'Laurel Springs', 'Earth City', 'Saint Albert', 'Sharon Hill', 'Gloucester Township', 'Elmer', 'Maple Shade Township', 'Kingston Springs', 'Palmetto', 'Paulsboro', 'Greenbrier', 'Merion Station', 'Frontenac', 'Elmwood', 'Christiana', 'Norwood', 'Lawnside', 'Gibbsboro', 'Tuscon', 'Whiteland', 'Washington Township', 'Erdenheim', 'Wenonah', 'Greenville', 'Cahokia', 'Westchase', 'Ivyland', 'Pine Hill', 'Furlong', 'Shrewsbury', 'New Britain', 'Evesham', 'Penns Grove', 'TAMPA', 'East Alton', 'Mascoutah', 'Secane', 'East Saint Louis', 'Salem', 'Roslyn', 'Rockledge', 'Riverton', 'Tabernacle', 'Rosemont', 'Mt Laurel', 'Newport', 'Dade City', 'Castleton', 'Beverly', 'Pontoon Beach', 'Thorofare', 'San Antonio', 'Hernando Beach', 'Pilesgrove', 'Plumsteadville', 'Malaga', 'New Palestine', 'Primos', 'Glenmoore', 'Wallingford', 'Treasure Is', 'Yeadon', 'Perkiomenville', 'Eddystone', 'Shamong', 'Trooper', 'Catalina', 'Gibbstown', 'Stowe', \"O'fallon\", 'Greenfield', 'Upper Chichester', 'Kulpsville', 'Saint Rose', 'Danville', 'Edgewater Park', 'Lawrenceville', 'Aldan', 'Clarksboro', 'Oakville', 'Manayunk', 'Sappington', 'Truckee', 'Carneys Point', 'Boise City', 'Green Lane', 'Mount Laurel Township', 'Logan Township', 'Monroe Township', 'Beaumont', 'Berkeley', 'Gladwyne', 'St.Louis', 'Woolwich Township', 'Eastampton', 'Pemberton', 'St.Petersburg', 'Bethalto', 'Toughkenamon', 'Pennington', 'Lawrence Township', 'Scott Air Force Base', 'Sauget', 'St. Ann', 'Chesterbrook', 'Worcester', 'Waterford Works', 'Southport', 'Monroeville', 'Mantua Township', 'Vincentown', 'Belleair', 'Town & Country', 'Bucks', 'Burlington Township', 'Kuna', 'West Conshohocken', 'Talleyville', 'Harrison Township', 'Jeffersonville', 'Florence', 'Luling', 'Silverdale', 'Breckenridge Hills', \"Town 'n' Country\", 'St Louis Downtown', 'Meraux', 'Titusville', 'Mount Lemmon', 'Bryn Athyn', 'Smithton', 'Whites Creek', 'Jennings', 'Kimmswick', 'Philadephia', 'Crum Lynne', 'Cedars', 'Freeburg', 'Zieglerville', 'Winslow Township', 'Bayonet Point', 'St. Davids', 'Holicong', 'Carrollwood', 'Roebling', 'TUCSON', 'Lester', 'Pennsville Township', 'Kimberton', 'Fountainville', 'National Park', 'Red Hill', 'New Whiteland', 'Medford Lakes', 'Milmont Park', 'Town And Country', 'East Lansdowne', 'Phila', 'Line Lexington', 'NASHVILLE', 'Newfield', 'Linwood', 'Churchville', 'Donelson', 'Fairview', 'Redingtn Shor', 'Mt Holly', 'Belle Meade', 'Citrus Park', 'Mansfield', 'Elsmere', 'Santa Barbara ', 'Warson Woods', 'Delanco', 'Mccordsville', 'Bensalem Township', \"Land O'Lakes\", 'Violet', 'Berlin Township', 'Concordville', 'St Ann', 'Scott AFB', 'Hulmeville', 'Masaryktown', 'Saint Davids', 'Bear', 'Erial', 'Berry Hill', 'Penn Valley', 'Lionville', 'St. Rose', 'Clermont', 'West Trenton', 'Pittsgrove', 'Fairmont City', 'Cedar Brook', 'Casas Adobes', 'Ozona', 'Mt. Ephraim', 'Thornton', 'Pegram', 'Mickleton', 'Marlborough', 'Valley Forge', 'Elverson', 'Washoe Valley', 'Hilltown', 'Normandy', 'Mendenhall', 'New Washoe City', 'Saint John', 'East St Louis', 'East St. Louis', 'Southeast Edmonton', 'Linfield', 'Southwest Philadelphia', 'Petersburg', 'Nampa', 'Unionville', 'Dupo', 'Belleair Blf', 'OFallon', 'Bargersville', 'Meadowbrook', 'Skippack Village', 'Enoch', 'Mt Laurel Township', 'Indianpolis', 'Bridge City', 'Mehlville', 'PHILADELPHIA', 'tucson', 'North Redington Bch', 'Twin Oaks', 'Wrightstown', 'Florence Township', 'Green Park', 'N Redngtn Bch', 'West Point', 'Brooklyn', 'Strafford', 'Southampton Township', 'Washington Park', 'Lima', 'Lederach', 'Chesilhurst', 'Eastampton Township', 'Oaklandon', 'Parker Ford', 'Cumberland', 'Wilmington Manor', 'Glendale', 'Saint Bernard', 'philadelphia', 'Marshallton', 'East Nashville', 'LARGO', 'Hi-Nella', 'Montchanin', 'Melrose Park', 'Pinellas', 'Mt.Laurel', 'Cottage Hills', 'Sumneytown', 'St  Louis', 'Lower Gwynedd', 'Pineville', 'Chestnut Hill', 'Earlington', 'Saint Petersburg Beach', 'St. Peters', 'Lower Gwynedd Township', 'Pinellas park', 'SAINT LOUIS', 'Tinicum Township', 'Upland', 'Saint Peters', 'Warrington Township', 'Winslow', 'Nashville ', 'Andalusia', 'Belleair Beach', 'Metarie', 'Corona de Tucson', 'Centreville', 'Fairview Village', 'South Tucson', 'Cortaro', 'West Edmonton', 'Jobstown', 'Abington Township', 'lutz', 'NEW ORLEANS', 'Indianapolis ', 'Ybor City', 'Sanatoga', 'Hillsborough County', 'Willingboro Township', 'Mont Clare', 'Sun City', 'West Norriton', 'PHILA', 'Pike Creek', 'Carversville', 'Town N Country', 'Rose Valley', 'Bradenton', 'Bosie', 'Warminster ', 'Creve Couer', 'Palm harbor', 'Boone', 'Mercerville', 'Lemay', 'Mc Cordsville', 'Mount Royal', 'Balm', 'RIVERVIEW', 'Downtown', 'Sassamansville', 'St Louis County', 'clearwater', 'Black Jack', 'Saint Louis,', 'Tampa Palms', 'Land o lakes', 'St Pete', 'Corona De Tucson', 'Hartford', 'Gradyville', 'reno', 'Saint Leo', 'Edgmont', 'Gwynedd', 'Roxborough', 'South Tampa', 'Bucks County', 'Belle Chase', 'tampa', 'Cheltenham Township', 'Franconia', 'Reno ', 'Yorklyn', 'Westtown', 'Santa Barbra', 'Stead', 'Pasadena', 'boise', 'Lakeland', 'Chester Heights', 'Lenni', 'Ridley', 'Meridan', 'EdMonton', 'Radnor Township', 'Belmont Hills', 'Fairview Hts', 'Rillito', 'Martinsville', 'Lower Merion', 'Feasterville-trevose', 'ST. PETERSBURG', 'Pass-a-Grille Beach', 'Chichester', 'Carson City', 'Haddon Twp', 'Ofallon', 'Birchrunville', 'Wilmington ', 'VALRICO', 'Cold Springs', 'Tucson ', 'Fairview Hts.', 'Cane Ridge', 'Greater Northdale', 'Bristol Twp', 'Oldmans', 'Kenneth', 'Pottsgrove', 'Lower Southampton Township', 'Tampa Florida', 'Blooming Glen', 'new orleans', 'Montgomery', 'LANSDALE', 'Pasco', 'Pennsylvania', 'Winchester', 'Catalina Foothills', 'Haddon', 'Parkside', 'NEW ORLEANS AP', 'Metairie ', 'NORTH WALES', 'Newportville', 'Bensalem. Pa', 'Indianapolis,', 'Sherwood', 'East Falls', 'Pine Forge', 'Santa Barbara & Ventura Counties', 'frazer', 'North Maple Shade', 'Land o Lakes', \"Carney's Point\", 'View', 'LITHIA', 'Mango', 'Royersford ', 'East Edmonton', 'Tampa - South', 'Evshm Twp', 'McCarran', 'Algiers', 'LOWER MERION', 'BRANDON', 'Tampla', 'Cornwells Hts', 'Fieldsboro', 'Festerville', 'Franklin ', 'Pedricktown', 'DONELSON', 'Goodletsville', 'MEDIA', 'SAINT LOUIS AP', 'quakertown', 'ClearWater', 'Reno City', 'Afton', 'West Bradford Township', 'South Burlington', 'Redington Shore', 'Philadelphia ', 'Clearwater/ Countryside', 'Fallsington', 'Kirklyn', 'St. Leo', 'goodlettsville', 'Haverton', 'London Grove', 'Salinas', 'Clarksville', 'Delran Township', \"Land O'lakes\", 'TUCSON AP', 'RADNOR', 'MacDill AFB', 'Reno Sparks', 'St.  Charles', 'Mount Holly,', 'UPPER MORELAND', 'CHELTENHAM', 'S.Pasadena', 'Newton', 'St. Louis County', 'Santa Maria', 'Hollywood', \"Town 'N' Country\", 'WILLOW GROVE', 'Middletown', 'Philiadelphia', 'Sullivan', 'Merion', 'Indiana', 'Wilimington', 'Blackwood ', 'Mt  Juliet', 'W. Berlin', 'Upper Pottsgrove', 'Brentwood ', 'Town and Country ', 'South Reno', 'Fairland', 'Winterthur', 'Foster Pond', 'Lynnfield', 'Wycombe', 'Santa  Barbara', 'West Collingswood Heights', 'N.Wales', 'Creamery', 'Philadelphia (Northeast Philly)', 'St.Charles', 'Plainfiled', 'CLIFTON HEIGHTS', 'DELRAN', 'St. Petersberg', 'PINELLAS PARK', 'Telford ', 'LANGHORNE', 'TRINITY', 'Tierre Verde', 'Maran', 'Hilltop', 'Tampa - North', 'erdenheim', 'Indian Rocks Beach. ', 'West Mount Holly', 'NORRISTOWN', 'Woodson Terrace', 'Nashville,', 'Mt Laurel Twp, NJ', 'Philadelphila ', 'East Tampa', 'VC Highlands', 'NEWARK', 'Oakford', 'ST LOUIS', 'CLEARWATER', 'Glenoldan', 'Concord Township', 'Blvd', 'Lansdale ', 'Newton Square', 'Gwynedd Valley', 'Springhill', 'Pine HIll', 'Tinicum', 'Plymouth Township', 'Ashland', 'wilmington', 'Rosewood Heights', 'lawrence', 'W Cherry Hill', 'French Quarter', 'Town n Country', 'Spruce Grove', 'Bywater', 'Lemay Ferry', 'LOWER PROVIDENCE', 'RENO', 'West Hill', 'Southwest Tampa', 'St. Pete', 'YARDLEY', 'Casa Adobes', 'WEST CHESTER', 'riverview', 'Trolley Square', 'Conshohoeken', 'AVON', 'ST. Louis', 'Mulberry', 'Barnhart', 'Fox Street', 'kop', 'Mt. Airy', 'Hampton', 'Hillsborough', 'Santa Clara', 'Wayne/Radnor', 'Douglassville', 'sewell', 'Mississauga', 'Woolwich Twp', 'Solebury', 'Real Goleta', 'Center Square', \"O' Fallon\", 'Bucktown', 'Shade', 'Feasterville-Trevose, PA', 'St Pete beach', 'N Redington Bch', 'Audubon ', 'E. Norristown', 'Sparks NV', 'Drexel Hil', 'NEW PORT RICHEY', 'Cerritos', 'Claerwater', 'Primos-Secane', 'Woodbourne', 'Tarpon springs', 'Lake Saint Louis', 'Bethel Township', 'South Cinnaminson', 'Fortville', 'meridian', 'St.Ann', 'Gardenville', 'Safety  Harbor', 'Pleasant Township', 'Gulph Mills', 'SPRINGHILL', 'ST. PETE BEACH', 'Mt Ephraim', 'Nevada', 'Maryville ', 'Wanamaker', 'Mt. Holly', 'Nixa', 'Gentilly']\n",
      "[967552, 404880, 454889, 361489, 451571, 635364, 351573, 101823, 253437, 269630, 105366, 87442, 78907, 64361, 73033, 44814, 56783, 63451, 54480, 37375, 43464, 27861, 41560, 40056, 25269, 45643, 29394, 22220, 17443, 16013, 19963, 22742, 20825, 25324, 25663, 22550, 15756, 18075, 23876, 14157, 13679, 11695, 13315, 15449, 7863, 16200, 24097, 11686, 11509, 16093, 15370, 14708, 9750, 12542, 13653, 10084, 25104, 9698, 13280, 11040, 10149, 6233, 7383, 11303, 9274, 7027, 11796, 8549, 7562, 15231, 17381, 6593, 4119, 11401, 8087, 9813, 6519, 9885, 13288, 12250, 6925, 8162, 6887, 6903, 8526, 8193, 7315, 10912, 9038, 7356, 9118, 9025, 7724, 13351, 6593, 8082, 7884, 7395, 4893, 4575, 5742, 7793, 6067, 5035, 10097, 8856, 8119, 14661, 7569, 5896, 5311, 7148, 8893, 6619, 6301, 4674, 8213, 5387, 7555, 6761, 6170, 6225, 4967, 4208, 4746, 6165, 6614, 3882, 3904, 4349, 10001, 5033, 5251, 18204, 4323, 13060, 21885, 6510, 4251, 3775, 4234, 3297, 5471, 6005, 4502, 3822, 5541, 4105, 3064, 3605, 5542, 4422, 4101, 3006, 2487, 4704, 3276, 6855, 2575, 7946, 8470, 3025, 3429, 3560, 3194, 5001, 3204, 2629, 7233, 4110, 2954, 4110, 3659, 3611, 4705, 2632, 2629, 4458, 4567, 2342, 3505, 2935, 2554, 3992, 5732, 4470, 2679, 2915, 3714, 5177, 9462, 3351, 5524, 2248, 4438, 2082, 2218, 1969, 2214, 2321, 2640, 5983, 3614, 2753, 2834, 7583, 3262, 1364, 5042, 3982, 2118, 3471, 1406, 2052, 2064, 4368, 2909, 2069, 2811, 1636, 10639, 1956, 3156, 2531, 1943, 2334, 1937, 1671, 1671, 1962, 1109, 10346, 1703, 2301, 1225, 1472, 3151, 1056, 2255, 1997, 2290, 2498, 1978, 2489, 1571, 1898, 1191, 1867, 980, 3842, 1101, 1867, 1360, 1710, 1716, 1359, 1063, 2482, 1373, 2687, 4260, 1695, 1591, 1062, 1195, 2179, 1234, 1420, 875, 1274, 1220, 1654, 1615, 959, 1246, 1247, 2019, 1727, 1395, 2011, 987, 1914, 987, 1319, 1057, 1517, 709, 1004, 1327, 765, 1230, 854, 986, 999, 1061, 1218, 979, 1827, 1157, 1515, 1197, 1109, 1113, 1589, 822, 1756, 770, 696, 1015, 652, 615, 565, 2418, 2095, 843, 1207, 1067, 1344, 850, 726, 702, 809, 1053, 914, 833, 688, 776, 880, 738, 822, 947, 1368, 960, 961, 1107, 1852, 599, 567, 544, 757, 928, 653, 1026, 1347, 508, 1306, 810, 630, 1249, 559, 1264, 1393, 847, 1977, 662, 860, 457, 500, 2078, 3033, 425, 792, 1823, 503, 660, 689, 715, 2763, 2088, 691, 516, 822, 591, 1060, 523, 568, 529, 842, 1494, 281, 790, 653, 493, 730, 470, 533, 591, 312, 602, 340, 297, 324, 473, 819, 513, 640, 556, 480, 888, 574, 381, 363, 266, 720, 357, 664, 451, 487, 322, 231, 814, 1560, 505, 430, 372, 442, 497, 721, 285, 226, 276, 342, 491, 238, 419, 599, 221, 264, 429, 251, 293, 437, 583, 230, 401, 311, 218, 225, 320, 424, 533, 383, 279, 439, 288, 471, 356, 204, 195, 330, 543, 950, 330, 402, 167, 384, 221, 254, 190, 151, 290, 233, 283, 703, 340, 745, 179, 213, 570, 296, 196, 492, 297, 193, 305, 250, 200, 548, 205, 1400, 441, 198, 154, 353, 110, 367, 196, 119, 239, 198, 164, 248, 164, 438, 118, 241, 94, 167, 288, 185, 74, 189, 231, 277, 154, 87, 253, 147, 153, 586, 79, 141, 79, 200, 151, 570, 253, 252, 142, 223, 123, 95, 143, 137, 66, 117, 350, 603, 75, 74, 252, 61, 384, 428, 83, 441, 142, 79, 105, 85, 270, 180, 207, 56, 172, 218, 104, 254, 60, 102, 62, 57, 202, 125, 233, 65, 176, 205, 171, 211, 58, 366, 74, 52, 429, 109, 233, 480, 176, 69, 74, 191, 55, 122, 135, 106, 141, 163, 217, 64, 41, 224, 190, 141, 60, 52, 377, 60, 116, 292, 116, 276, 92, 138, 79, 49, 349, 64, 102, 28, 37, 53, 32, 61, 138, 63, 58, 179, 82, 47, 64, 93, 49, 378, 92, 68, 34, 201, 39, 210, 49, 104, 63, 275, 98, 89, 110, 39, 88, 59, 191, 1268, 79, 220, 38, 61, 29, 193, 34, 77, 51, 73, 79, 110, 103, 223, 27, 23, 31, 80, 23, 41, 241, 23, 580, 62, 26, 179, 77, 32, 54, 30, 50, 34, 54, 339, 112, 44, 21, 153, 33, 41, 34, 194, 117, 136, 98, 24, 40, 51, 51, 254, 52, 27, 152, 47, 27, 42, 75, 261, 28, 152, 81, 121, 84, 185, 143, 56, 83, 31, 94, 263, 113, 156, 37, 23, 21, 22, 57, 264, 38, 80, 33, 39, 49, 111, 50, 26, 23, 195, 38, 25, 58, 294, 65, 266, 216, 21, 21, 151, 30, 29, 356, 70, 447, 61, 41, 39, 62, 46, 30, 63, 48, 50, 24, 65, 38, 62, 27, 44, 36, 62, 71, 37, 59, 129, 23, 100, 30, 25, 61, 174, 47, 42, 80, 22, 135, 22, 21, 71, 59, 45, 63, 47, 39, 77, 38, 46, 28, 48, 32, 24, 42, 33, 26, 30, 211, 61, 34, 62, 54, 54, 53, 113, 58, 42, 71, 372, 41, 42, 23, 21, 49, 32, 33, 27, 41, 34, 24, 26, 34, 21, 28, 37, 54, 77, 32, 25, 31, 29, 53, 28, 202, 147, 120, 22, 45, 38, 53, 27, 33, 25, 54, 430, 26, 28, 132, 43, 30, 26, 29, 37, 52, 47, 46, 53, 21, 39, 58, 26, 38, 23, 41, 33, 150, 39, 23, 53, 53, 141, 21, 23, 40, 27, 83, 39, 24, 40, 59, 27, 104, 51, 42, 103, 74, 35, 86, 147, 130, 28, 112, 28, 213, 25, 63, 89, 21, 46, 76, 115, 53, 47, 60, 28, 21, 74, 28, 65, 33, 63, 50, 46, 43, 77, 42, 23, 21, 335, 66, 65, 83, 32, 166, 62, 123, 21, 59, 49, 29, 27, 62, 28, 31, 109, 69, 31, 22, 101, 31, 26, 38, 25, 79, 53, 22, 41, 59, 24, 34, 95, 24, 40, 153, 22, 60, 72, 25, 65, 24, 25, 23, 74, 28, 24, 111, 36, 46, 23, 60, 298, 32, 62, 34, 21, 52, 56, 109, 22, 30, 136, 32, 48, 24, 401, 74, 34, 36, 38, 26, 77, 44, 64, 41, 191, 34, 55, 35, 28, 38, 51, 27, 42, 27]\n",
      "6986023\n",
      "6990280\n"
     ]
    }
   ],
   "source": [
    "filtered_cities = [city for city in major_cities if len(city_reviews[city]) > 20]\n",
    "print(filtered_cities)\n",
    "\n",
    "review_counts = [len(city_reviews[city]) for city in filtered_cities]\n",
    "print(review_counts)\n",
    "\n",
    "total_filtered_reviews = sum(review_counts)\n",
    "print(total_filtered_reviews)\n",
    "\n",
    "print(total_review_count)"
   ]
  },
  {
   "cell_type": "code",
   "execution_count": null,
   "id": "f2325b1e-142c-44c0-b8c7-5f2107f6176e",
   "metadata": {},
   "outputs": [],
   "source": []
  }
 ],
 "metadata": {
  "kernelspec": {
   "display_name": "Python 3 (ipykernel)",
   "language": "python",
   "name": "python3"
  },
  "language_info": {
   "codemirror_mode": {
    "name": "ipython",
    "version": 3
   },
   "file_extension": ".py",
   "mimetype": "text/x-python",
   "name": "python",
   "nbconvert_exporter": "python",
   "pygments_lexer": "ipython3",
   "version": "3.9.16"
  }
 },
 "nbformat": 4,
 "nbformat_minor": 5
}
