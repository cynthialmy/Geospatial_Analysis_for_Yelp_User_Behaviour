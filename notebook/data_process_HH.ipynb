{
 "cells": [
  {
   "cell_type": "code",
   "execution_count": 1,
   "metadata": {},
   "outputs": [],
   "source": [
    "import pandas as pd\n",
    "import json"
   ]
  },
  {
   "cell_type": "code",
   "execution_count": 2,
   "metadata": {},
   "outputs": [],
   "source": [
    "json_file = '../raw_data/yelp_academic_dataset_business.json'\n",
    "\n",
    "data_list = []\n",
    "with open(json_file, 'r') as file:\n",
    "    for line in file:\n",
    "        data_list.append(json.loads(line))\n",
    "\n",
    "data = pd.DataFrame(data_list)\n",
    "data.to_pickle('../data/business.pkl')"
   ]
  },
  {
   "cell_type": "code",
   "execution_count": 11,
   "metadata": {},
   "outputs": [],
   "source": [
    "json_file = '../raw_data/yelp_academic_dataset_checkin.json'\n",
    "\n",
    "data_list = []\n",
    "with open(json_file, 'r') as file:\n",
    "    for line in file:\n",
    "        data_list.append(json.loads(line))\n",
    "\n",
    "data = pd.DataFrame(data_list)\n",
    "data.to_pickle('../data/checkin.pkl')"
   ]
  },
  {
   "cell_type": "code",
   "execution_count": 22,
   "metadata": {},
   "outputs": [],
   "source": [
    "json_file = '../raw_data/yelp_academic_dataset_review.json'\n",
    "\n",
    "data_list = []\n",
    "with open(json_file, 'r') as file:\n",
    "    for line in file:\n",
    "        data_list.append(json.loads(line))\n",
    "\n",
    "data = pd.DataFrame(data_list)\n",
    "data_sub = data.sample(frac=0.1, random_state=10)\n",
    "data.to_pickle('../data/review.pkl')\n",
    "data_sub.to_pickle('../data/review_subsample.pkl')"
   ]
  },
  {
   "cell_type": "code",
   "execution_count": 13,
   "metadata": {},
   "outputs": [],
   "source": [
    "json_file = '../raw_data/yelp_academic_dataset_tip.json'\n",
    "\n",
    "data_list = []\n",
    "with open(json_file, 'r') as file:\n",
    "    for line in file:\n",
    "        data_list.append(json.loads(line))\n",
    "\n",
    "data = pd.DataFrame(data_list)\n",
    "data.to_pickle('../data/tip.pkl')"
   ]
  },
  {
   "cell_type": "code",
   "execution_count": 19,
   "metadata": {},
   "outputs": [],
   "source": [
    "json_file = '../raw_data/yelp_academic_dataset_user.json'\n",
    "\n",
    "data_list = []\n",
    "with open(json_file, 'r') as file:\n",
    "    for line in file:\n",
    "        data_list.append(json.loads(line))\n",
    "\n",
    "data = pd.DataFrame(data_list)\n",
    "data_sub = data.sample(frac=0.1, random_state=10)\n",
    "data.to_pickle('../data/user.pkl')\n",
    "data_sub.to_pickle('../data/user_subsample.pkl')"
   ]
  }
 ],
 "metadata": {
  "kernelspec": {
   "display_name": "base",
   "language": "python",
   "name": "python3"
  },
  "language_info": {
   "codemirror_mode": {
    "name": "ipython",
    "version": 3
   },
   "file_extension": ".py",
   "mimetype": "text/x-python",
   "name": "python",
   "nbconvert_exporter": "python",
   "pygments_lexer": "ipython3",
   "version": "3.9.12"
  },
  "orig_nbformat": 4
 },
 "nbformat": 4,
 "nbformat_minor": 2
}
